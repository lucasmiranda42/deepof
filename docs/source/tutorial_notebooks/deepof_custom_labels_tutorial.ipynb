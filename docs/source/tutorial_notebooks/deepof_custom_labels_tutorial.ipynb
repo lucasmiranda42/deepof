{
 "cells": [
  {
   "cell_type": "markdown",
   "id": "2780fd26",
   "metadata": {},
   "source": [
    "# Using custom labelling schemes"
   ]
  },
  {
   "cell_type": "markdown",
   "id": "874e3ada",
   "metadata": {},
   "source": [
    "[![Open In Colab](https://colab.research.google.com/assets/colab-badge.svg)](https://colab.research.google.com/github/lucasmiranda42/deepof/blob/master/docs/source/tutorial_notebooks/deepof_custom_labels_tutorial.ipynb)"
   ]
  },
  {
   "cell_type": "markdown",
   "id": "b059b912",
   "metadata": {},
   "source": [
    "##### What we'll cover:\n",
    "    \n",
    "* Labelling schemes supported by DeepOF.\n",
    "* How to create a new labelling scheme and integrate it with the unsupervised pipeline."
   ]
  },
  {
   "cell_type": "code",
   "execution_count": 1,
   "id": "998be631",
   "metadata": {},
   "outputs": [],
   "source": [
    "%load_ext autoreload\n",
    "%autoreload 2"
   ]
  },
  {
   "cell_type": "code",
   "execution_count": 2,
   "id": "25ccbea4",
   "metadata": {},
   "outputs": [],
   "source": [
    "# # If using Google colab, uncomment and run this cell and the one below to set up the environment\n",
    "# # Note: because of how colab handles the installation of local packages, this cell will kill your runtime.\n",
    "# # This is not an error! Just continue with the cells below.\n",
    "# import os\n",
    "# !git clone -q https://github.com/mlfpm/deepof.git\n",
    "# !pip install -q -e deepof --progress-bar off\n",
    "# os.chdir(\"deepof\")\n",
    "# !curl --output tutorial_files.zip https://datashare.mpcdf.mpg.de/s/QoawozFfT53JfPW/download\n",
    "# !unzip tutorial_files.zip\n",
    "# os.kill(os.getpid(), 9)"
   ]
  },
  {
   "cell_type": "code",
   "execution_count": 3,
   "id": "80e4b2fc",
   "metadata": {},
   "outputs": [],
   "source": [
    "# os.chdir(\"deepof\")\n",
    "# import os, warnings\n",
    "# warnings.filterwarnings('ignore')"
   ]
  },
  {
   "cell_type": "markdown",
   "id": "7632cba8",
   "metadata": {},
   "source": [
    "Let's start by importing some packages. We'll use python's os library to handle paths, pickle to load saved objects, pandas to load data frames, and the data entry API within DeepOF, located in deepof.data"
   ]
  },
  {
   "cell_type": "code",
   "execution_count": 4,
   "id": "4d85f5bf",
   "metadata": {
    "scrolled": false
   },
   "outputs": [],
   "source": [
    "import os\n",
    "import pandas as pd\n",
    "import pickle\n",
    "import deepof.data"
   ]
  },
  {
   "cell_type": "markdown",
   "id": "ffdcefa1",
   "metadata": {},
   "source": [
    "We'll also need some plotting gear:"
   ]
  },
  {
   "cell_type": "code",
   "execution_count": 5,
   "id": "e438d39f",
   "metadata": {},
   "outputs": [],
   "source": [
    "from IPython import display\n",
    "from networkx import Graph, draw\n",
    "import deepof.visuals\n",
    "import matplotlib.pyplot as plt\n",
    "import seaborn as sns"
   ]
  },
  {
   "cell_type": "markdown",
   "id": "983af8b4",
   "metadata": {},
   "source": [
    "### Recap: labelling schemes supported by DeepOF"
   ]
  },
  {
   "cell_type": "markdown",
   "id": "9c41de92",
   "metadata": {},
   "source": [
    "DeepOF supports two labelling schemes out of the box: the `deepof_14` scheme, selected by default, and `deepof_8`, a reduced set of tracking labels that is common among, for example, [SimBA](https://goldenneurolab.com/simba) users.\n",
    "\n",
    "**NOTE**: This is not necessary if you use the matrix representations introduced in the previous tutorial. If you'd like to try out the graph representations we explored, however, but you have a different labelling scheme, this is the place to be."
   ]
  },
  {
   "cell_type": "markdown",
   "id": "2e2d3ae5",
   "metadata": {},
   "source": [
    "<img src=\"./Assets/deepof_DLC_tagging.png\"  width=\"800\">"
   ]
  },
  {
   "cell_type": "markdown",
   "id": "0a3c0b08",
   "metadata": {},
   "source": [
    "While, as mentioned above, `deepof_14` is selected by default, the provided alternative can be selected when defining a new `deepof.Project` instance:"
   ]
  },
  {
   "cell_type": "code",
   "execution_count": 6,
   "id": "7abae556",
   "metadata": {},
   "outputs": [],
   "source": [
    "my_deepof_project = deepof.data.Project(\n",
    "    project_path=os.path.join(\"tutorial_files\"),\n",
    "    video_path=os.path.join(\"tutorial_files/Videos/\"),\n",
    "    table_path=os.path.join(\"tutorial_files/Tables/\"),\n",
    "    project_name=\"deepof_tutorial_project\",\n",
    "    arena=\"circular-autodetect\",\n",
    "    animal_ids=[\"B\", \"W\"],\n",
    "    video_format=\".mp4\",\n",
    "    bodypart_graph=\"deepof_8\",  # Can also be set to 'deepof_14' (default), 'deepof_11' or take a custom graph\n",
    "    video_scale=380,\n",
    "    iterative_imputation=\"partial\",\n",
    "    smooth_alpha=1,\n",
    "    exp_conditions=None,\n",
    ")"
   ]
  },
  {
   "cell_type": "code",
   "execution_count": 7,
   "id": "94d8c03b",
   "metadata": {
    "scrolled": false
   },
   "outputs": [
    {
     "name": "stdout",
     "output_type": "stream",
     "text": [
      "Setting up project directories...\n"
     ]
    },
    {
     "name": "stderr",
     "output_type": "stream",
     "text": [
      "Preprocessing tables: 100%|██████████| 6/6 [00:05<00:00,  1.05table/s, step=Saving data]                              \n",
      "Detecting arenas    : 100%|██████████| 6/6 [04:15<00:00, 42.62s/arena]\n",
      "Computing distances : 100%|██████████| 6/6 [00:05<00:00,  1.16table/s]\n",
      "Computing angles    : 100%|██████████| 6/6 [00:00<00:00,  8.05table/s]\n",
      "Computing areas     : 100%|██████████| 6/6 [00:02<00:00,  2.68table/s]\n"
     ]
    },
    {
     "name": "stdout",
     "output_type": "stream",
     "text": [
      "Done!\n"
     ]
    }
   ],
   "source": [
    "my_deepof_project = my_deepof_project.create(force=True)"
   ]
  },
  {
   "cell_type": "markdown",
   "id": "65393407",
   "metadata": {},
   "source": [
    "We can take a look at the constructed graph in this case (you can see how the default looks like in the previous tutorial, or change the labelling scheme to `deepof_14` in the cell above if you're following in colab):"
   ]
  },
  {
   "cell_type": "code",
   "execution_count": 8,
   "id": "630bd119",
   "metadata": {},
   "outputs": [
    {
     "name": "stderr",
     "output_type": "stream",
     "text": [
      "Loading tables: 100%|██████████| 4/4 [00:07<00:00,  1.95s/step, step=Get graph info]   \n",
      "Filtering     : 100%|██████████| 6/6 [00:00<00:00,  7.65table/s]\n",
      "Rescaling     : 100%|██████████| 6/6 [00:01<00:00,  5.41table/s]\n",
      "Get windows   : 100%|██████████| 5/5 [00:04<00:00,  1.01table/s]\n",
      "Get windows   : 100%|██████████| 1/1 [00:00<00:00,  1.05table/s]\n",
      "Reshaping     : 100%|██████████| 2/2 [00:11<00:00,  5.71s/table]\n"
     ]
    }
   ],
   "source": [
    "graph_preprocessed_coords, shapes, adj_matrix, to_preprocess, global_scaler = my_deepof_project.get_graph_dataset(\n",
    "    animal_id=\"B\", # Comment out for multi-animal embeddings\n",
    "    center=\"Center\",\n",
    "    align=\"Spine_1\",\n",
    "    window_size=25,\n",
    "    window_step=1,\n",
    "    test_videos=1,\n",
    "    preprocess=True,\n",
    "    scale=\"standard\",\n",
    ")"
   ]
  },
  {
   "cell_type": "code",
   "execution_count": 9,
   "id": "eeada2e4",
   "metadata": {},
   "outputs": [
    {
     "data": {
      "image/png": "[encoded data removed]",
      "text/plain": [
       "<Figure size 300x300 with 1 Axes>"
      ]
     },
     "metadata": {},
     "output_type": "display_data"
    }
   ],
   "source": [
    "plt.figure(figsize=(3, 3))\n",
    "draw(Graph(adj_matrix))\n",
    "plt.show()"
   ]
  },
  {
   "cell_type": "markdown",
   "id": "caa71e54",
   "metadata": {},
   "source": [
    "We indeed see a graph with 8 labels! The diamond shape corresponds to nose, ears and center. The outer branches to both sides and the tail."
   ]
  },
  {
   "cell_type": "markdown",
   "id": "6c99ef3c",
   "metadata": {},
   "source": [
    "This will adapt the whole downstream pipeline to work with the 8-label scheme. A more flexible alternative, if neither scheme fits your data, is to create a custom graph. Next, let's see how this can be achieved!"
   ]
  },
  {
   "cell_type": "markdown",
   "id": "7079cbfb",
   "metadata": {},
   "source": [
    "### Creating a new labelling scheme"
   ]
  },
  {
   "cell_type": "markdown",
   "id": "73f40230",
   "metadata": {},
   "source": [
    "Now, on for a slightly more involved task. What happens if we want another labelling scheme, not supported by DeepOF? We need to build the graph by hand using an adjacency list, and pass it to the `deepof.Project` constructor. Let's see! We'll adapt the `deepof_8` labelling scheme to include the full tail, which should look like this:"
   ]
  },
  {
   "cell_type": "markdown",
   "id": "4e3b370f",
   "metadata": {},
   "source": [
    "<img src=\"./Assets/deepof_custom_tagging.png\"  width=\"400\">"
   ]
  },
  {
   "cell_type": "markdown",
   "id": "557e1f2c",
   "metadata": {},
   "source": [
    "To start, we should create a Python dictionary specifying all connections we want. To be clear, keys in the dictionary will be connected to every element in the lists passed as values. There is no unique way of implementing this, so feel free to be creative! But an example that works is the following:"
   ]
  },
  {
   "cell_type": "code",
   "execution_count": 10,
   "id": "0c4826a9",
   "metadata": {},
   "outputs": [],
   "source": [
    "deepof_custom = {\n",
    "    \"Nose\": [\"Left_ear\", \"Right_ear\"],\n",
    "    \"Center\": [\"Left_ear\", \"Right_ear\", \"Left_fhip\", \"Right_fhip\", \"Tail_base\"],\n",
    "    \"Tail_base\": [\"Tail_1\"],\n",
    "    \"Tail_1\": [\"Tail_2\"],\n",
    "    \"Tail_2\": [\"Tail_tip\"],\n",
    "}"
   ]
  },
  {
   "cell_type": "markdown",
   "id": "73a6284e",
   "metadata": {},
   "source": [
    "Here, `Nose` is connected to `Left_ear` and `Right_ear`, and so on. Next, we'll pass this structure to the `bodypart_graph` parameter in the `deepof.Project` constructor."
   ]
  },
  {
   "cell_type": "code",
   "execution_count": 11,
   "id": "f9be8dbb",
   "metadata": {},
   "outputs": [],
   "source": [
    "my_deepof_project = deepof.data.Project(\n",
    "    project_path=os.path.join(\"tutorial_files\"),\n",
    "    video_path=os.path.join(\"tutorial_files/Videos/\"),\n",
    "    table_path=os.path.join(\"tutorial_files/Tables/\"),\n",
    "    project_name=\"deepof_tutorial_project\",\n",
    "    arena=\"circular-autodetect\",\n",
    "    animal_ids=[\"B\", \"W\"],\n",
    "    video_format=\".mp4\",\n",
    "    bodypart_graph=deepof_custom,  # Can also be set to 'deepof_14' (default), 'deepof_11' or 'deepof_8'\n",
    "    video_scale=380,\n",
    "    iterative_imputation=\"partial\",\n",
    "    smooth_alpha=1,\n",
    "    exp_conditions=None,\n",
    ")"
   ]
  },
  {
   "cell_type": "code",
   "execution_count": 12,
   "id": "314be955",
   "metadata": {},
   "outputs": [
    {
     "name": "stdout",
     "output_type": "stream",
     "text": [
      "Setting up project directories...\n"
     ]
    },
    {
     "name": "stderr",
     "output_type": "stream",
     "text": [
      "Preprocessing tables: 100%|██████████| 6/6 [00:06<00:00,  1.02s/table, step=Saving data]                              \n",
      "Detecting arenas    : 100%|██████████| 6/6 [05:38<00:00, 56.43s/arena]\n",
      "Computing distances : 100%|██████████| 6/6 [00:08<00:00,  1.34s/table]\n",
      "Computing angles    : 100%|██████████| 6/6 [00:01<00:00,  4.86table/s]\n",
      "Computing areas     : 100%|██████████| 6/6 [00:01<00:00,  5.55table/s]"
     ]
    },
    {
     "name": "stdout",
     "output_type": "stream",
     "text": [
      "Done!\n"
     ]
    },
    {
     "name": "stderr",
     "output_type": "stream",
     "text": [
      "\n"
     ]
    }
   ],
   "source": [
    "my_deepof_project = my_deepof_project.create(force=True)"
   ]
  },
  {
   "cell_type": "markdown",
   "id": "5333813e",
   "metadata": {},
   "source": [
    "### Getting a custom graph dataset for the unsupervised pipeline"
   ]
  },
  {
   "cell_type": "markdown",
   "id": "0b987573",
   "metadata": {},
   "source": [
    "Now everything works the same way as before! Let's then obtain a new graph dataset using this custom labelling scheme, and make sure the obtained graph matches our expectations:"
   ]
  },
  {
   "cell_type": "code",
   "execution_count": 13,
   "id": "a1573968",
   "metadata": {},
   "outputs": [
    {
     "name": "stderr",
     "output_type": "stream",
     "text": [
      "Loading tables: 100%|██████████| 4/4 [00:06<00:00,  1.69s/step, step=Get graph info]   \n",
      "Filtering     : 100%|██████████| 6/6 [00:01<00:00,  5.26table/s]\n",
      "Rescaling     : 100%|██████████| 6/6 [00:01<00:00,  4.72table/s]\n",
      "Get windows   : 100%|██████████| 5/5 [00:06<00:00,  1.39s/table]\n",
      "Get windows   : 100%|██████████| 1/1 [00:01<00:00,  1.26s/table]\n",
      "Reshaping     : 100%|██████████| 2/2 [00:14<00:00,  7.36s/table]\n"
     ]
    }
   ],
   "source": [
    "graph_preprocessed_coords, shapes, adj_matrix, to_preprocess, global_scaler = my_deepof_project.get_graph_dataset(\n",
    "    animal_id=\"B\", # Comment out for multi-animal embeddings\n",
    "    center=\"Center\",\n",
    "    align=\"Spine_1\",\n",
    "    window_size=25,\n",
    "    window_step=1,\n",
    "    test_videos=1,\n",
    "    preprocess=True,\n",
    "    scale=\"standard\",\n",
    ")"
   ]
  },
  {
   "cell_type": "code",
   "execution_count": 14,
   "id": "ff935bfb",
   "metadata": {},
   "outputs": [
    {
     "data": {
      "image/png": "[encoded data removed]",
      "text/plain": [
       "<Figure size 300x300 with 1 Axes>"
      ]
     },
     "metadata": {},
     "output_type": "display_data"
    }
   ],
   "source": [
    "plt.figure(figsize=(3, 3))\n",
    "draw(Graph(adj_matrix))\n",
    "plt.show()"
   ]
  },
  {
   "cell_type": "markdown",
   "id": "eb8ced0d",
   "metadata": {},
   "source": [
    "And that's it! Now you should be able to adapt the unsupervised pipeline within DeepOF to any labelling scheme of choice. Note that this should still work with bottom-up or side view videos."
   ]
  },
  {
   "cell_type": "markdown",
   "id": "8ded862f",
   "metadata": {},
   "source": [
    "### Wrapping up"
   ]
  },
  {
   "cell_type": "markdown",
   "id": "d4f08308",
   "metadata": {},
   "source": [
    "Thank you for making it until the end. This was a slightly more involved tutorial for those users that do not rely on top-down labels like those provided out of the box. Stay tuned for more content, and make sure to raise an [issue](https://github.com/mlfpm/deepof/issues) in our GitHub repository if you have any questions!"
   ]
  }
 ],
 "metadata": {
  "kernelspec": {
   "display_name": "dof",
   "language": "python",
   "name": "python3"
  },
  "language_info": {
   "codemirror_mode": {
    "name": "ipython",
    "version": 3
   },
   "file_extension": ".py",
   "mimetype": "text/x-python",
   "name": "python",
   "nbconvert_exporter": "python",
   "pygments_lexer": "ipython3",
   "version": "3.10.9"
  }
 },
 "nbformat": 4,
 "nbformat_minor": 5
}
